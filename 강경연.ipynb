{
  "nbformat": 4,
  "nbformat_minor": 0,
  "metadata": {
    "colab": {
      "name": "강경연.ipynb",
      "version": "0.3.2",
      "provenance": [],
      "collapsed_sections": [],
      "include_colab_link": true
    },
    "kernelspec": {
      "name": "python3",
      "display_name": "Python 3"
    }
  },
  "cells": [
    {
      "cell_type": "markdown",
      "metadata": {
        "id": "view-in-github",
        "colab_type": "text"
      },
      "source": [
        "<a href=\"https://colab.research.google.com/github/kyoungyeon90/dondon/blob/master/%EA%B0%95%EA%B2%BD%EC%97%B0.ipynb\" target=\"_parent\"><img src=\"https://colab.research.google.com/assets/colab-badge.svg\" alt=\"Open In Colab\"/></a>"
      ]
    },
    {
      "cell_type": "markdown",
      "metadata": {
        "id": "kqyePJJnQa1N",
        "colab_type": "text"
      },
      "source": [
        "#리스트"
      ]
    },
    {
      "cell_type": "markdown",
      "metadata": {
        "id": "zLVQYsFcPcUN",
        "colab_type": "text"
      },
      "source": [
        "##리스트란?\n",
        "리스트는 여러 값을 담을 수 있는 변수입니다.\n"
      ]
    },
    {
      "cell_type": "markdown",
      "metadata": {
        "id": "fYI3UKaKPlnr",
        "colab_type": "text"
      },
      "source": [
        "###1.리스트 만들기\n",
        "방법은 2가지\n"
      ]
    },
    {
      "cell_type": "markdown",
      "metadata": {
        "id": "Rm2MNmvtPq4l",
        "colab_type": "text"
      },
      "source": [
        "####방법1"
      ]
    },
    {
      "cell_type": "code",
      "metadata": {
        "id": "wADyb32CPrmQ",
        "colab_type": "code",
        "colab": {}
      },
      "source": [
        "# list1이라는 빈 리스트를 만들어 보겠습니다.\n",
        "list1=[]"
      ],
      "execution_count": 0,
      "outputs": []
    },
    {
      "cell_type": "code",
      "metadata": {
        "id": "vBu0l_gkQxOz",
        "colab_type": "code",
        "outputId": "2b800520-f174-4c8d-96c1-a97b70a676a5",
        "colab": {
          "base_uri": "https://localhost:8080/",
          "height": 34
        }
      },
      "source": [
        "print(list1)\n"
      ],
      "execution_count": 0,
      "outputs": [
        {
          "output_type": "stream",
          "text": [
            "[]\n"
          ],
          "name": "stdout"
        }
      ]
    },
    {
      "cell_type": "code",
      "metadata": {
        "id": "SlxFrCGwRBfH",
        "colab_type": "code",
        "colab": {}
      },
      "source": [
        "#list2를 만들어보자. 1, '철수', True를 넣어서."
      ],
      "execution_count": 0,
      "outputs": []
    },
    {
      "cell_type": "code",
      "metadata": {
        "id": "59YrM_wfRLw-",
        "colab_type": "code",
        "colab": {}
      },
      "source": [
        "list2=[1,'철수',True]"
      ],
      "execution_count": 0,
      "outputs": []
    },
    {
      "cell_type": "code",
      "metadata": {
        "id": "Nj4IXPCJRQJj",
        "colab_type": "code",
        "outputId": "e5ac3e2d-4e12-41ee-b57b-1ec523e322e6",
        "colab": {
          "base_uri": "https://localhost:8080/",
          "height": 34
        }
      },
      "source": [
        "print(list2)"
      ],
      "execution_count": 0,
      "outputs": [
        {
          "output_type": "stream",
          "text": [
            "[1, '철수', True]\n"
          ],
          "name": "stdout"
        }
      ]
    },
    {
      "cell_type": "markdown",
      "metadata": {
        "id": "oG7xbV88RrO4",
        "colab_type": "text"
      },
      "source": [
        "####방법2"
      ]
    },
    {
      "cell_type": "code",
      "metadata": {
        "id": "jcUv9wC4UvuC",
        "colab_type": "code",
        "colab": {}
      },
      "source": [
        "list3=list()"
      ],
      "execution_count": 0,
      "outputs": []
    },
    {
      "cell_type": "code",
      "metadata": {
        "id": "_MB44vZPUxjp",
        "colab_type": "code",
        "colab": {}
      },
      "source": [
        "list4=list([1,'철수',True])"
      ],
      "execution_count": 0,
      "outputs": []
    },
    {
      "cell_type": "code",
      "metadata": {
        "id": "PDhYynWAU61h",
        "colab_type": "code",
        "colab": {
          "base_uri": "https://localhost:8080/",
          "height": 34
        },
        "outputId": "9e56337c-3217-43b6-841f-9a8036e0502a"
      },
      "source": [
        "print(list4)"
      ],
      "execution_count": 3,
      "outputs": [
        {
          "output_type": "stream",
          "text": [
            "[1, '철수', True]\n"
          ],
          "name": "stdout"
        }
      ]
    },
    {
      "cell_type": "code",
      "metadata": {
        "id": "hyz7cnhQWH_P",
        "colab_type": "code",
        "colab": {}
      },
      "source": [
        ""
      ],
      "execution_count": 0,
      "outputs": []
    }
  ]
}